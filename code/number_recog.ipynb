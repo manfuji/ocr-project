{
 "cells": [
  {
   "cell_type": "code",
   "execution_count": 7,
   "metadata": {},
   "outputs": [],
   "source": [
    "import cv2\n",
    "import pytesseract\n",
    "from PIL import Image\n",
    "import easyocr"
   ]
  },
  {
   "cell_type": "code",
   "execution_count": 10,
   "metadata": {},
   "outputs": [
    {
     "name": "stdout",
     "output_type": "stream",
     "text": [
      "Extracted number plate: ['Python basics required for Data Science and ML', 'Data Analysis and Visualization', '2 -', 'Numpy and Pandas for Data Analysis,', 'Preprocesssing', 'Data Cleaning:', '3 _ Matplotlib and Seaborn for creating impactful', 'visualizations.', 'Machine Learning', 'Complete Life cycle of Data Science and ML Project.', 'Type of ML Algorithms', 'Supervised and Unsupervised.', 'Implementation of various ML algorithms like Random', 'Forest; Linear regression, Logistic Regression, Decision', 'Tree etc_ using sklearn_', 'and']\n"
     ]
    }
   ],
   "source": [
    "\n",
    "# Load the image using OpenCV\n",
    "image = cv2.imread('../images/test.PNG')\n",
    "\n",
    "# Convert the image to grayscale\n",
    "gray_image = cv2.cvtColor(image, cv2.COLOR_BGR2GRAY)\n",
    "\n",
    "# Initialize the OCR reader\n",
    "reader = easyocr.Reader(['en'])\n",
    "\n",
    "# Perform OCR on the image\n",
    "result = reader.readtext(gray_image)\n",
    "\n",
    "# Extract text from the result\n",
    "extracted_text = [entry[1] for entry in result]\n",
    "\n",
    "# Print the extracted text\n",
    "print(\"Extracted number plate:\", extracted_text)"
   ]
  },
  {
   "cell_type": "code",
   "execution_count": null,
   "metadata": {},
   "outputs": [],
   "source": []
  }
 ],
 "metadata": {
  "kernelspec": {
   "display_name": "venv",
   "language": "python",
   "name": "python3"
  },
  "language_info": {
   "codemirror_mode": {
    "name": "ipython",
    "version": 3
   },
   "file_extension": ".py",
   "mimetype": "text/x-python",
   "name": "python",
   "nbconvert_exporter": "python",
   "pygments_lexer": "ipython3",
   "version": "3.11.5"
  }
 },
 "nbformat": 4,
 "nbformat_minor": 2
}
