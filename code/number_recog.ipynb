{
 "cells": [
  {
   "cell_type": "code",
   "execution_count": 7,
   "metadata": {},
   "outputs": [],
   "source": [
    "import cv2\n",
    "import pytesseract\n",
    "from PIL import Image\n",
    "import easyocr"
   ]
  },
  {
   "cell_type": "code",
   "execution_count": 11,
   "metadata": {},
   "outputs": [
    {
     "name": "stdout",
     "output_type": "stream",
     "text": [
      "some results: [([[44, 8], [462, 8], [462, 37], [44, 37]], 'Python basics required for Data Science and ML', 0.8930211246930146), ([[16, 62], [298, 62], [298, 86], [16, 86]], 'Data Analysis and Visualization', 0.7698641954168343), ([[19, 117], [49, 117], [49, 135], [19, 135]], '2 -', 0.7001226406327807), ([[47, 113], [374, 113], [374, 141], [47, 141]], 'Numpy and Pandas for Data Analysis,', 0.7950833223721324), ([[15, 137], [152, 137], [152, 166], [15, 166]], 'Preprocesssing', 0.9878841933176927), ([[188, 136], [314, 136], [314, 166], [188, 166]], 'Data Cleaning:', 0.7294676479539246), ([[18, 186], [448, 186], [448, 218], [18, 218]], '3 _ Matplotlib and Seaborn for creating impactful', 0.6717176815033004), ([[16, 216], [138, 216], [138, 240], [16, 240]], 'visualizations.', 0.9397610102356345), ([[18, 268], [180, 268], [180, 294], [18, 294]], 'Machine Learning', 0.9655483314175382), ([[16, 320], [462, 320], [462, 346], [16, 346]], 'Complete Life cycle of Data Science and ML Project.', 0.7769802891197588), ([[16, 372], [218, 372], [218, 398], [16, 398]], 'Type of ML Algorithms', 0.9747346059190618), ([[230, 371], [492, 371], [492, 396], [230, 396]], 'Supervised and Unsupervised.', 0.9160160636504796), ([[16, 424], [490, 424], [490, 450], [16, 450]], 'Implementation of various ML algorithms like Random', 0.8992752273498824), ([[15, 448], [490, 448], [490, 476], [15, 476]], 'Forest; Linear regression, Logistic Regression, Decision', 0.7179803216336436), ([[16, 473], [224, 473], [224, 502], [16, 502]], 'Tree etc_ using sklearn_', 0.772379639491855), ([[148.89059960754955, 142.3358994113243], [186.6641005886757, 138.89059960754955], [188.10940039245045, 160.6641005886757], [150.3358994113243, 163.10940039245045]], 'and', 0.9999897450052484)]\n",
      "Extracted number plate: ['Python basics required for Data Science and ML', 'Data Analysis and Visualization', '2 -', 'Numpy and Pandas for Data Analysis,', 'Preprocesssing', 'Data Cleaning:', '3 _ Matplotlib and Seaborn for creating impactful', 'visualizations.', 'Machine Learning', 'Complete Life cycle of Data Science and ML Project.', 'Type of ML Algorithms', 'Supervised and Unsupervised.', 'Implementation of various ML algorithms like Random', 'Forest; Linear regression, Logistic Regression, Decision', 'Tree etc_ using sklearn_', 'and']\n"
     ]
    }
   ],
   "source": [
    "\n",
    "# Load the image using OpenCV\n",
    "image = cv2.imread('../images/test.PNG')\n",
    "\n",
    "# Convert the image to grayscale\n",
    "gray_image = cv2.cvtColor(image, cv2.COLOR_BGR2GRAY)\n",
    "\n",
    "# Initialize the OCR reader\n",
    "reader = easyocr.Reader(['en'])\n",
    "\n",
    "# Perform OCR on the image\n",
    "result = reader.readtext(gray_image)\n",
    "\n",
    "# Extract text from the result\n",
    "extracted_text = [entry[1] for entry in result]\n",
    "\n",
    "# Print the extracted text\n",
    "print(\"Extracted number plate:\", extracted_text)"
   ]
  },
  {
   "cell_type": "code",
   "execution_count": null,
   "metadata": {},
   "outputs": [],
   "source": []
  }
 ],
 "metadata": {
  "kernelspec": {
   "display_name": "venv",
   "language": "python",
   "name": "python3"
  },
  "language_info": {
   "codemirror_mode": {
    "name": "ipython",
    "version": 3
   },
   "file_extension": ".py",
   "mimetype": "text/x-python",
   "name": "python",
   "nbconvert_exporter": "python",
   "pygments_lexer": "ipython3",
   "version": "3.11.5"
  }
 },
 "nbformat": 4,
 "nbformat_minor": 2
}
